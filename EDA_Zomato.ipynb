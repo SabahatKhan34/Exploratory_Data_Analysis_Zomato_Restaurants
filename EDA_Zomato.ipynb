{
 "cells": [
  {
   "cell_type": "markdown",
   "id": "018c2f29",
   "metadata": {},
   "source": [
    "# Exploratory Data Analysis of Zomato’s Restaurant Dataset"
   ]
  },
  {
   "cell_type": "markdown",
   "id": "ea265b55",
   "metadata": {},
   "source": [
    "![image](https://i.imgur.com/i9psugf.jpg)"
   ]
  },
  {
   "cell_type": "markdown",
   "id": "d7a9bc70",
   "metadata": {},
   "source": [
    "Exploratory Data Analysis (EDA) is used to analyze and investigate data sets and summarize their main characteristics, often employing data visualization methods. It helps determine how best to manipulate data sources to get the answers you need, making it easier to discover patterns, spot anomalies, test a hypothesis, or check assumptions.\n",
    "\n",
    "EDA requires knowledge of statistics, visualization techniques and data-analysis tools like numpy, pandas, seaborn, plotly, matplotlib."
   ]
  },
  {
   "cell_type": "markdown",
   "id": "f2a5c018",
   "metadata": {},
   "source": [
    "![zomato](https://i.imgur.com/ukTk8Dh.jpg)"
   ]
  },
  {
   "cell_type": "markdown",
   "id": "9aeda7e5",
   "metadata": {},
   "source": [
    "Zomato API Analysis is one of the most useful analysis for foodies who want to taste the best cuisines of every part of the world which lies in their budget. This analysis is also for those who want to find value-for-money restaurants in various parts of the country for cuisines. Additionally, this analysis caters to the needs of people who are striving to get the best cuisine of the country and which locality of that country serves that cuisine with the maximum number of restaurants.\n",
    "Zomato is an Indian multinational restaurant aggregator and food delivery company founded by Deepinder Goyal and Pankaj Chaddah in 2008. Zomato provides information, menus and user-reviews of restaurants as well as food delivery options from partner restaurants in select cities"
   ]
  },
  {
   "cell_type": "markdown",
   "id": "fa3362b4",
   "metadata": {},
   "source": [
    "Steps to follow:\n",
    "- Downloading the dataset & install all required libraries\n",
    "- Explore & clean the data.\n",
    "- Visualization\n",
    "- Summarize & conclude\n",
    "- Future Work.\n",
    "- References."
   ]
  },
  {
   "cell_type": "code",
   "execution_count": 1,
   "id": "21806125",
   "metadata": {},
   "outputs": [
    {
     "data": {
      "application/javascript": [
       "window.require && require([\"base/js/namespace\"],function(Jupyter){Jupyter.notebook.save_checkpoint()})"
      ],
      "text/plain": [
       "<IPython.core.display.Javascript object>"
      ]
     },
     "metadata": {},
     "output_type": "display_data"
    },
    {
     "name": "stdout",
     "output_type": "stream",
     "text": [
      "[jovian] Updating notebook \"sabahatkhan0304/project-2-exploratory-data-analysis\" on https://jovian.ai\u001b[0m\n",
      "[jovian] Committed successfully! https://jovian.ai/sabahatkhan0304/project-2-exploratory-data-analysis\u001b[0m\n"
     ]
    },
    {
     "data": {
      "text/plain": [
       "'https://jovian.ai/sabahatkhan0304/project-2-exploratory-data-analysis'"
      ]
     },
     "execution_count": 1,
     "metadata": {},
     "output_type": "execute_result"
    }
   ],
   "source": [
    "!pip install jovian --upgrade --quiet\n",
    "import jovian\n",
    "# Execute this to save new versions of the notebook\n",
    "jovian.commit(project=\"project-2-exploratory-data-analysis\")"
   ]
  },
  {
   "cell_type": "markdown",
   "id": "3159d31c",
   "metadata": {},
   "source": [
    "## Download the `dataset` and import all required `libraries`"
   ]
  },
  {
   "cell_type": "code",
   "execution_count": 2,
   "id": "6b009f3f",
   "metadata": {},
   "outputs": [],
   "source": [
    "import pandas as pd\n",
    "import numpy as np\n",
    "import matplotlib.pyplot as plt\n",
    "import seaborn as sns\n",
    "%matplotlib inline"
   ]
  },
  {
   "cell_type": "markdown",
   "id": "5dac4920",
   "metadata": {},
   "source": [
    "### What is `opendatasets`?"
   ]
  },
  {
   "cell_type": "markdown",
   "id": "98a1ebce",
   "metadata": {},
   "source": [
    "A curated collection of datasets for data analysis &amp; machine learning, downloadable with a single Python command. Visit Snyk Advisor to see a full health score report for opendatasets, including popularity, security, maintenance & community analysis."
   ]
  },
  {
   "cell_type": "code",
   "execution_count": 3,
   "id": "b7efbdb2",
   "metadata": {},
   "outputs": [
    {
     "name": "stdout",
     "output_type": "stream",
     "text": [
      "Note: you may need to restart the kernel to use updated packages.\n"
     ]
    }
   ],
   "source": [
    "pip install opendatasets --upgrade --quiet"
   ]
  },
  {
   "cell_type": "code",
   "execution_count": 4,
   "id": "046c2ce1",
   "metadata": {},
   "outputs": [
    {
     "name": "stdout",
     "output_type": "stream",
     "text": [
      "Please provide your Kaggle credentials to download this dataset. Learn more: http://bit.ly/kaggle-creds\n",
      "Your Kaggle username: sabahat34\n",
      "Your Kaggle Key: ········\n",
      "Downloading zomato-eda.zip to ./zomato-eda\n"
     ]
    },
    {
     "name": "stderr",
     "output_type": "stream",
     "text": [
      "100%|██████████| 89.0M/89.0M [00:03<00:00, 24.7MB/s]\n"
     ]
    },
    {
     "name": "stdout",
     "output_type": "stream",
     "text": [
      "\n"
     ]
    }
   ],
   "source": [
    "import opendatasets as od\n",
    "\n",
    "download_url = 'https://www.kaggle.com/datasets/pranavuikey/zomato-eda'\n",
    "od.download(download_url)"
   ]
  },
  {
   "cell_type": "markdown",
   "id": "40d3da03",
   "metadata": {},
   "source": [
    "## Explore and clean the data :"
   ]
  },
  {
   "cell_type": "code",
   "execution_count": 5,
   "id": "6f53f8f8",
   "metadata": {},
   "outputs": [],
   "source": [
    "df= pd.read_csv('zomato-eda/zomato.csv')"
   ]
  },
  {
   "cell_type": "code",
   "execution_count": 6,
   "id": "595ba56f",
   "metadata": {},
   "outputs": [
    {
     "data": {
      "text/html": [
       "<div>\n",
       "<style scoped>\n",
       "    .dataframe tbody tr th:only-of-type {\n",
       "        vertical-align: middle;\n",
       "    }\n",
       "\n",
       "    .dataframe tbody tr th {\n",
       "        vertical-align: top;\n",
       "    }\n",
       "\n",
       "    .dataframe thead th {\n",
       "        text-align: right;\n",
       "    }\n",
       "</style>\n",
       "<table border=\"1\" class=\"dataframe\">\n",
       "  <thead>\n",
       "    <tr style=\"text-align: right;\">\n",
       "      <th></th>\n",
       "      <th>url</th>\n",
       "      <th>address</th>\n",
       "      <th>name</th>\n",
       "      <th>online_order</th>\n",
       "      <th>book_table</th>\n",
       "      <th>rate</th>\n",
       "      <th>votes</th>\n",
       "      <th>phone</th>\n",
       "      <th>location</th>\n",
       "      <th>rest_type</th>\n",
       "      <th>dish_liked</th>\n",
       "      <th>cuisines</th>\n",
       "      <th>approx_cost(for two people)</th>\n",
       "      <th>reviews_list</th>\n",
       "      <th>menu_item</th>\n",
       "      <th>listed_in(type)</th>\n",
       "      <th>listed_in(city)</th>\n",
       "    </tr>\n",
       "  </thead>\n",
       "  <tbody>\n",
       "    <tr>\n",
       "      <th>0</th>\n",
       "      <td>https://www.zomato.com/bangalore/jalsa-banasha...</td>\n",
       "      <td>942, 21st Main Road, 2nd Stage, Banashankari, ...</td>\n",
       "      <td>Jalsa</td>\n",
       "      <td>Yes</td>\n",
       "      <td>Yes</td>\n",
       "      <td>4.1/5</td>\n",
       "      <td>775</td>\n",
       "      <td>080 42297555\\r\\n+91 9743772233</td>\n",
       "      <td>Banashankari</td>\n",
       "      <td>Casual Dining</td>\n",
       "      <td>Pasta, Lunch Buffet, Masala Papad, Paneer Laja...</td>\n",
       "      <td>North Indian, Mughlai, Chinese</td>\n",
       "      <td>800</td>\n",
       "      <td>[('Rated 4.0', 'RATED\\n  A beautiful place to ...</td>\n",
       "      <td>[]</td>\n",
       "      <td>Buffet</td>\n",
       "      <td>Banashankari</td>\n",
       "    </tr>\n",
       "    <tr>\n",
       "      <th>1</th>\n",
       "      <td>https://www.zomato.com/bangalore/spice-elephan...</td>\n",
       "      <td>2nd Floor, 80 Feet Road, Near Big Bazaar, 6th ...</td>\n",
       "      <td>Spice Elephant</td>\n",
       "      <td>Yes</td>\n",
       "      <td>No</td>\n",
       "      <td>4.1/5</td>\n",
       "      <td>787</td>\n",
       "      <td>080 41714161</td>\n",
       "      <td>Banashankari</td>\n",
       "      <td>Casual Dining</td>\n",
       "      <td>Momos, Lunch Buffet, Chocolate Nirvana, Thai G...</td>\n",
       "      <td>Chinese, North Indian, Thai</td>\n",
       "      <td>800</td>\n",
       "      <td>[('Rated 4.0', 'RATED\\n  Had been here for din...</td>\n",
       "      <td>[]</td>\n",
       "      <td>Buffet</td>\n",
       "      <td>Banashankari</td>\n",
       "    </tr>\n",
       "    <tr>\n",
       "      <th>2</th>\n",
       "      <td>https://www.zomato.com/SanchurroBangalore?cont...</td>\n",
       "      <td>1112, Next to KIMS Medical College, 17th Cross...</td>\n",
       "      <td>San Churro Cafe</td>\n",
       "      <td>Yes</td>\n",
       "      <td>No</td>\n",
       "      <td>3.8/5</td>\n",
       "      <td>918</td>\n",
       "      <td>+91 9663487993</td>\n",
       "      <td>Banashankari</td>\n",
       "      <td>Cafe, Casual Dining</td>\n",
       "      <td>Churros, Cannelloni, Minestrone Soup, Hot Choc...</td>\n",
       "      <td>Cafe, Mexican, Italian</td>\n",
       "      <td>800</td>\n",
       "      <td>[('Rated 3.0', \"RATED\\n  Ambience is not that ...</td>\n",
       "      <td>[]</td>\n",
       "      <td>Buffet</td>\n",
       "      <td>Banashankari</td>\n",
       "    </tr>\n",
       "    <tr>\n",
       "      <th>3</th>\n",
       "      <td>https://www.zomato.com/bangalore/addhuri-udupi...</td>\n",
       "      <td>1st Floor, Annakuteera, 3rd Stage, Banashankar...</td>\n",
       "      <td>Addhuri Udupi Bhojana</td>\n",
       "      <td>No</td>\n",
       "      <td>No</td>\n",
       "      <td>3.7/5</td>\n",
       "      <td>88</td>\n",
       "      <td>+91 9620009302</td>\n",
       "      <td>Banashankari</td>\n",
       "      <td>Quick Bites</td>\n",
       "      <td>Masala Dosa</td>\n",
       "      <td>South Indian, North Indian</td>\n",
       "      <td>300</td>\n",
       "      <td>[('Rated 4.0', \"RATED\\n  Great food and proper...</td>\n",
       "      <td>[]</td>\n",
       "      <td>Buffet</td>\n",
       "      <td>Banashankari</td>\n",
       "    </tr>\n",
       "    <tr>\n",
       "      <th>4</th>\n",
       "      <td>https://www.zomato.com/bangalore/grand-village...</td>\n",
       "      <td>10, 3rd Floor, Lakshmi Associates, Gandhi Baza...</td>\n",
       "      <td>Grand Village</td>\n",
       "      <td>No</td>\n",
       "      <td>No</td>\n",
       "      <td>3.8/5</td>\n",
       "      <td>166</td>\n",
       "      <td>+91 8026612447\\r\\n+91 9901210005</td>\n",
       "      <td>Basavanagudi</td>\n",
       "      <td>Casual Dining</td>\n",
       "      <td>Panipuri, Gol Gappe</td>\n",
       "      <td>North Indian, Rajasthani</td>\n",
       "      <td>600</td>\n",
       "      <td>[('Rated 4.0', 'RATED\\n  Very good restaurant ...</td>\n",
       "      <td>[]</td>\n",
       "      <td>Buffet</td>\n",
       "      <td>Banashankari</td>\n",
       "    </tr>\n",
       "  </tbody>\n",
       "</table>\n",
       "</div>"
      ],
      "text/plain": [
       "                                                 url  \\\n",
       "0  https://www.zomato.com/bangalore/jalsa-banasha...   \n",
       "1  https://www.zomato.com/bangalore/spice-elephan...   \n",
       "2  https://www.zomato.com/SanchurroBangalore?cont...   \n",
       "3  https://www.zomato.com/bangalore/addhuri-udupi...   \n",
       "4  https://www.zomato.com/bangalore/grand-village...   \n",
       "\n",
       "                                             address                   name  \\\n",
       "0  942, 21st Main Road, 2nd Stage, Banashankari, ...                  Jalsa   \n",
       "1  2nd Floor, 80 Feet Road, Near Big Bazaar, 6th ...         Spice Elephant   \n",
       "2  1112, Next to KIMS Medical College, 17th Cross...        San Churro Cafe   \n",
       "3  1st Floor, Annakuteera, 3rd Stage, Banashankar...  Addhuri Udupi Bhojana   \n",
       "4  10, 3rd Floor, Lakshmi Associates, Gandhi Baza...          Grand Village   \n",
       "\n",
       "  online_order book_table   rate  votes                             phone  \\\n",
       "0          Yes        Yes  4.1/5    775    080 42297555\\r\\n+91 9743772233   \n",
       "1          Yes         No  4.1/5    787                      080 41714161   \n",
       "2          Yes         No  3.8/5    918                    +91 9663487993   \n",
       "3           No         No  3.7/5     88                    +91 9620009302   \n",
       "4           No         No  3.8/5    166  +91 8026612447\\r\\n+91 9901210005   \n",
       "\n",
       "       location            rest_type  \\\n",
       "0  Banashankari        Casual Dining   \n",
       "1  Banashankari        Casual Dining   \n",
       "2  Banashankari  Cafe, Casual Dining   \n",
       "3  Banashankari          Quick Bites   \n",
       "4  Basavanagudi        Casual Dining   \n",
       "\n",
       "                                          dish_liked  \\\n",
       "0  Pasta, Lunch Buffet, Masala Papad, Paneer Laja...   \n",
       "1  Momos, Lunch Buffet, Chocolate Nirvana, Thai G...   \n",
       "2  Churros, Cannelloni, Minestrone Soup, Hot Choc...   \n",
       "3                                        Masala Dosa   \n",
       "4                                Panipuri, Gol Gappe   \n",
       "\n",
       "                         cuisines approx_cost(for two people)  \\\n",
       "0  North Indian, Mughlai, Chinese                         800   \n",
       "1     Chinese, North Indian, Thai                         800   \n",
       "2          Cafe, Mexican, Italian                         800   \n",
       "3      South Indian, North Indian                         300   \n",
       "4        North Indian, Rajasthani                         600   \n",
       "\n",
       "                                        reviews_list menu_item  \\\n",
       "0  [('Rated 4.0', 'RATED\\n  A beautiful place to ...        []   \n",
       "1  [('Rated 4.0', 'RATED\\n  Had been here for din...        []   \n",
       "2  [('Rated 3.0', \"RATED\\n  Ambience is not that ...        []   \n",
       "3  [('Rated 4.0', \"RATED\\n  Great food and proper...        []   \n",
       "4  [('Rated 4.0', 'RATED\\n  Very good restaurant ...        []   \n",
       "\n",
       "  listed_in(type) listed_in(city)  \n",
       "0          Buffet    Banashankari  \n",
       "1          Buffet    Banashankari  \n",
       "2          Buffet    Banashankari  \n",
       "3          Buffet    Banashankari  \n",
       "4          Buffet    Banashankari  "
      ]
     },
     "execution_count": 6,
     "metadata": {},
     "output_type": "execute_result"
    }
   ],
   "source": [
    "df.head(5)"
   ]
  },
  {
   "cell_type": "code",
   "execution_count": 7,
   "id": "3dcad552",
   "metadata": {},
   "outputs": [],
   "source": [
    "# df.shape"
   ]
  },
  {
   "cell_type": "code",
   "execution_count": 8,
   "id": "a713d038",
   "metadata": {},
   "outputs": [
    {
     "name": "stdout",
     "output_type": "stream",
     "text": [
      "<class 'pandas.core.frame.DataFrame'>\n",
      "RangeIndex: 51717 entries, 0 to 51716\n",
      "Data columns (total 17 columns):\n",
      " #   Column                       Non-Null Count  Dtype \n",
      "---  ------                       --------------  ----- \n",
      " 0   url                          51717 non-null  object\n",
      " 1   address                      51717 non-null  object\n",
      " 2   name                         51717 non-null  object\n",
      " 3   online_order                 51717 non-null  object\n",
      " 4   book_table                   51717 non-null  object\n",
      " 5   rate                         43942 non-null  object\n",
      " 6   votes                        51717 non-null  int64 \n",
      " 7   phone                        50509 non-null  object\n",
      " 8   location                     51696 non-null  object\n",
      " 9   rest_type                    51490 non-null  object\n",
      " 10  dish_liked                   23639 non-null  object\n",
      " 11  cuisines                     51672 non-null  object\n",
      " 12  approx_cost(for two people)  51371 non-null  object\n",
      " 13  reviews_list                 51717 non-null  object\n",
      " 14  menu_item                    51717 non-null  object\n",
      " 15  listed_in(type)              51717 non-null  object\n",
      " 16  listed_in(city)              51717 non-null  object\n",
      "dtypes: int64(1), object(16)\n",
      "memory usage: 6.7+ MB\n"
     ]
    }
   ],
   "source": [
    "df.info()"
   ]
  },
  {
   "cell_type": "code",
   "execution_count": 9,
   "id": "388a8356",
   "metadata": {},
   "outputs": [
    {
     "data": {
      "text/html": [
       "<div>\n",
       "<style scoped>\n",
       "    .dataframe tbody tr th:only-of-type {\n",
       "        vertical-align: middle;\n",
       "    }\n",
       "\n",
       "    .dataframe tbody tr th {\n",
       "        vertical-align: top;\n",
       "    }\n",
       "\n",
       "    .dataframe thead th {\n",
       "        text-align: right;\n",
       "    }\n",
       "</style>\n",
       "<table border=\"1\" class=\"dataframe\">\n",
       "  <thead>\n",
       "    <tr style=\"text-align: right;\">\n",
       "      <th></th>\n",
       "      <th>votes</th>\n",
       "    </tr>\n",
       "  </thead>\n",
       "  <tbody>\n",
       "    <tr>\n",
       "      <th>count</th>\n",
       "      <td>51717.000000</td>\n",
       "    </tr>\n",
       "    <tr>\n",
       "      <th>mean</th>\n",
       "      <td>283.697527</td>\n",
       "    </tr>\n",
       "    <tr>\n",
       "      <th>std</th>\n",
       "      <td>803.838853</td>\n",
       "    </tr>\n",
       "    <tr>\n",
       "      <th>min</th>\n",
       "      <td>0.000000</td>\n",
       "    </tr>\n",
       "    <tr>\n",
       "      <th>25%</th>\n",
       "      <td>7.000000</td>\n",
       "    </tr>\n",
       "    <tr>\n",
       "      <th>50%</th>\n",
       "      <td>41.000000</td>\n",
       "    </tr>\n",
       "    <tr>\n",
       "      <th>75%</th>\n",
       "      <td>198.000000</td>\n",
       "    </tr>\n",
       "    <tr>\n",
       "      <th>max</th>\n",
       "      <td>16832.000000</td>\n",
       "    </tr>\n",
       "  </tbody>\n",
       "</table>\n",
       "</div>"
      ],
      "text/plain": [
       "              votes\n",
       "count  51717.000000\n",
       "mean     283.697527\n",
       "std      803.838853\n",
       "min        0.000000\n",
       "25%        7.000000\n",
       "50%       41.000000\n",
       "75%      198.000000\n",
       "max    16832.000000"
      ]
     },
     "execution_count": 9,
     "metadata": {},
     "output_type": "execute_result"
    }
   ],
   "source": [
    "df.describe()"
   ]
  },
  {
   "cell_type": "code",
   "execution_count": 10,
   "id": "46968562",
   "metadata": {},
   "outputs": [],
   "source": [
    "### Deleting redundant columns"
   ]
  },
  {
   "cell_type": "code",
   "execution_count": 11,
   "id": "f00d5ffa",
   "metadata": {},
   "outputs": [
    {
     "data": {
      "text/plain": [
       "Index(['url', 'address', 'name', 'online_order', 'book_table', 'rate', 'votes',\n",
       "       'phone', 'location', 'rest_type', 'dish_liked', 'cuisines',\n",
       "       'approx_cost(for two people)', 'reviews_list', 'menu_item',\n",
       "       'listed_in(type)', 'listed_in(city)'],\n",
       "      dtype='object')"
      ]
     },
     "execution_count": 11,
     "metadata": {},
     "output_type": "execute_result"
    }
   ],
   "source": [
    "df.columns"
   ]
  },
  {
   "cell_type": "markdown",
   "id": "6b13c51e",
   "metadata": {},
   "source": [
    "### There are some columns in our dataset for which we have no work, so we remove it from the dataset.\n",
    "\n",
    "Ex. If I can't get any data from the URL, then I am getting it out of the dataset."
   ]
  },
  {
   "cell_type": "code",
   "execution_count": 12,
   "id": "760b88b6",
   "metadata": {},
   "outputs": [],
   "source": [
    "df.drop(['url','address','phone','menu_item','dish_liked','reviews_list'],axis =1, inplace= True)"
   ]
  },
  {
   "cell_type": "code",
   "execution_count": 13,
   "id": "46ce7466",
   "metadata": {},
   "outputs": [
    {
     "data": {
      "text/html": [
       "<div>\n",
       "<style scoped>\n",
       "    .dataframe tbody tr th:only-of-type {\n",
       "        vertical-align: middle;\n",
       "    }\n",
       "\n",
       "    .dataframe tbody tr th {\n",
       "        vertical-align: top;\n",
       "    }\n",
       "\n",
       "    .dataframe thead th {\n",
       "        text-align: right;\n",
       "    }\n",
       "</style>\n",
       "<table border=\"1\" class=\"dataframe\">\n",
       "  <thead>\n",
       "    <tr style=\"text-align: right;\">\n",
       "      <th></th>\n",
       "      <th>name</th>\n",
       "      <th>online_order</th>\n",
       "      <th>book_table</th>\n",
       "      <th>rate</th>\n",
       "      <th>votes</th>\n",
       "      <th>location</th>\n",
       "      <th>rest_type</th>\n",
       "      <th>cuisines</th>\n",
       "      <th>approx_cost(for two people)</th>\n",
       "      <th>listed_in(type)</th>\n",
       "      <th>listed_in(city)</th>\n",
       "    </tr>\n",
       "  </thead>\n",
       "  <tbody>\n",
       "    <tr>\n",
       "      <th>0</th>\n",
       "      <td>Jalsa</td>\n",
       "      <td>Yes</td>\n",
       "      <td>Yes</td>\n",
       "      <td>4.1/5</td>\n",
       "      <td>775</td>\n",
       "      <td>Banashankari</td>\n",
       "      <td>Casual Dining</td>\n",
       "      <td>North Indian, Mughlai, Chinese</td>\n",
       "      <td>800</td>\n",
       "      <td>Buffet</td>\n",
       "      <td>Banashankari</td>\n",
       "    </tr>\n",
       "    <tr>\n",
       "      <th>1</th>\n",
       "      <td>Spice Elephant</td>\n",
       "      <td>Yes</td>\n",
       "      <td>No</td>\n",
       "      <td>4.1/5</td>\n",
       "      <td>787</td>\n",
       "      <td>Banashankari</td>\n",
       "      <td>Casual Dining</td>\n",
       "      <td>Chinese, North Indian, Thai</td>\n",
       "      <td>800</td>\n",
       "      <td>Buffet</td>\n",
       "      <td>Banashankari</td>\n",
       "    </tr>\n",
       "    <tr>\n",
       "      <th>2</th>\n",
       "      <td>San Churro Cafe</td>\n",
       "      <td>Yes</td>\n",
       "      <td>No</td>\n",
       "      <td>3.8/5</td>\n",
       "      <td>918</td>\n",
       "      <td>Banashankari</td>\n",
       "      <td>Cafe, Casual Dining</td>\n",
       "      <td>Cafe, Mexican, Italian</td>\n",
       "      <td>800</td>\n",
       "      <td>Buffet</td>\n",
       "      <td>Banashankari</td>\n",
       "    </tr>\n",
       "    <tr>\n",
       "      <th>3</th>\n",
       "      <td>Addhuri Udupi Bhojana</td>\n",
       "      <td>No</td>\n",
       "      <td>No</td>\n",
       "      <td>3.7/5</td>\n",
       "      <td>88</td>\n",
       "      <td>Banashankari</td>\n",
       "      <td>Quick Bites</td>\n",
       "      <td>South Indian, North Indian</td>\n",
       "      <td>300</td>\n",
       "      <td>Buffet</td>\n",
       "      <td>Banashankari</td>\n",
       "    </tr>\n",
       "    <tr>\n",
       "      <th>4</th>\n",
       "      <td>Grand Village</td>\n",
       "      <td>No</td>\n",
       "      <td>No</td>\n",
       "      <td>3.8/5</td>\n",
       "      <td>166</td>\n",
       "      <td>Basavanagudi</td>\n",
       "      <td>Casual Dining</td>\n",
       "      <td>North Indian, Rajasthani</td>\n",
       "      <td>600</td>\n",
       "      <td>Buffet</td>\n",
       "      <td>Banashankari</td>\n",
       "    </tr>\n",
       "  </tbody>\n",
       "</table>\n",
       "</div>"
      ],
      "text/plain": [
       "                    name online_order book_table   rate  votes      location  \\\n",
       "0                  Jalsa          Yes        Yes  4.1/5    775  Banashankari   \n",
       "1         Spice Elephant          Yes         No  4.1/5    787  Banashankari   \n",
       "2        San Churro Cafe          Yes         No  3.8/5    918  Banashankari   \n",
       "3  Addhuri Udupi Bhojana           No         No  3.7/5     88  Banashankari   \n",
       "4          Grand Village           No         No  3.8/5    166  Basavanagudi   \n",
       "\n",
       "             rest_type                        cuisines  \\\n",
       "0        Casual Dining  North Indian, Mughlai, Chinese   \n",
       "1        Casual Dining     Chinese, North Indian, Thai   \n",
       "2  Cafe, Casual Dining          Cafe, Mexican, Italian   \n",
       "3          Quick Bites      South Indian, North Indian   \n",
       "4        Casual Dining        North Indian, Rajasthani   \n",
       "\n",
       "  approx_cost(for two people) listed_in(type) listed_in(city)  \n",
       "0                         800          Buffet    Banashankari  \n",
       "1                         800          Buffet    Banashankari  \n",
       "2                         800          Buffet    Banashankari  \n",
       "3                         300          Buffet    Banashankari  \n",
       "4                         600          Buffet    Banashankari  "
      ]
     },
     "execution_count": 13,
     "metadata": {},
     "output_type": "execute_result"
    }
   ],
   "source": [
    "df.head(5)"
   ]
  },
  {
   "cell_type": "markdown",
   "id": "929d1e6e",
   "metadata": {},
   "source": [
    "### Renaming the columns"
   ]
  },
  {
   "cell_type": "code",
   "execution_count": 14,
   "id": "82390585",
   "metadata": {},
   "outputs": [
    {
     "data": {
      "text/html": [
       "<div>\n",
       "<style scoped>\n",
       "    .dataframe tbody tr th:only-of-type {\n",
       "        vertical-align: middle;\n",
       "    }\n",
       "\n",
       "    .dataframe tbody tr th {\n",
       "        vertical-align: top;\n",
       "    }\n",
       "\n",
       "    .dataframe thead th {\n",
       "        text-align: right;\n",
       "    }\n",
       "</style>\n",
       "<table border=\"1\" class=\"dataframe\">\n",
       "  <thead>\n",
       "    <tr style=\"text-align: right;\">\n",
       "      <th></th>\n",
       "      <th>restaurants</th>\n",
       "      <th>online_order</th>\n",
       "      <th>book_table</th>\n",
       "      <th>rating</th>\n",
       "      <th>votes</th>\n",
       "      <th>location</th>\n",
       "      <th>rest_type</th>\n",
       "      <th>food_type</th>\n",
       "      <th>cost</th>\n",
       "      <th>type</th>\n",
       "      <th>city</th>\n",
       "    </tr>\n",
       "  </thead>\n",
       "  <tbody>\n",
       "    <tr>\n",
       "      <th>0</th>\n",
       "      <td>Jalsa</td>\n",
       "      <td>Yes</td>\n",
       "      <td>Yes</td>\n",
       "      <td>4.1/5</td>\n",
       "      <td>775</td>\n",
       "      <td>Banashankari</td>\n",
       "      <td>Casual Dining</td>\n",
       "      <td>North Indian, Mughlai, Chinese</td>\n",
       "      <td>800</td>\n",
       "      <td>Buffet</td>\n",
       "      <td>Banashankari</td>\n",
       "    </tr>\n",
       "    <tr>\n",
       "      <th>1</th>\n",
       "      <td>Spice Elephant</td>\n",
       "      <td>Yes</td>\n",
       "      <td>No</td>\n",
       "      <td>4.1/5</td>\n",
       "      <td>787</td>\n",
       "      <td>Banashankari</td>\n",
       "      <td>Casual Dining</td>\n",
       "      <td>Chinese, North Indian, Thai</td>\n",
       "      <td>800</td>\n",
       "      <td>Buffet</td>\n",
       "      <td>Banashankari</td>\n",
       "    </tr>\n",
       "  </tbody>\n",
       "</table>\n",
       "</div>"
      ],
      "text/plain": [
       "      restaurants online_order book_table rating  votes      location  \\\n",
       "0           Jalsa          Yes        Yes  4.1/5    775  Banashankari   \n",
       "1  Spice Elephant          Yes         No  4.1/5    787  Banashankari   \n",
       "\n",
       "       rest_type                       food_type cost    type          city  \n",
       "0  Casual Dining  North Indian, Mughlai, Chinese  800  Buffet  Banashankari  \n",
       "1  Casual Dining     Chinese, North Indian, Thai  800  Buffet  Banashankari  "
      ]
     },
     "execution_count": 14,
     "metadata": {},
     "output_type": "execute_result"
    }
   ],
   "source": [
    "df.rename({'name':'restaurants','rate':'rating','cuisines':'food_type','listed_in(type)':'type','listed_in(city)':'city',\n",
    "           'approx_cost(for two people)':'cost'},inplace=True,axis =1)\n",
    "df.head(2)"
   ]
  },
  {
   "cell_type": "markdown",
   "id": "3a2cc9db",
   "metadata": {},
   "source": [
    "## Droping NaN values"
   ]
  },
  {
   "cell_type": "code",
   "execution_count": 15,
   "id": "a8cf4b7a",
   "metadata": {},
   "outputs": [
    {
     "data": {
      "text/plain": [
       "rating          7775\n",
       "cost             346\n",
       "rest_type        227\n",
       "food_type         45\n",
       "location          21\n",
       "restaurants        0\n",
       "online_order       0\n",
       "book_table         0\n",
       "votes              0\n",
       "type               0\n",
       "city               0\n",
       "dtype: int64"
      ]
     },
     "execution_count": 15,
     "metadata": {},
     "output_type": "execute_result"
    }
   ],
   "source": [
    "df.isnull().sum().sort_values(ascending= False)"
   ]
  },
  {
   "cell_type": "code",
   "execution_count": 16,
   "id": "32d7ff06",
   "metadata": {},
   "outputs": [
    {
     "data": {
      "text/plain": [
       "['rating', 'location', 'rest_type', 'food_type', 'cost']"
      ]
     },
     "execution_count": 16,
     "metadata": {},
     "output_type": "execute_result"
    }
   ],
   "source": [
    "[features for features in df.columns if df[features].isnull().sum()>0]"
   ]
  },
  {
   "cell_type": "code",
   "execution_count": 17,
   "id": "7e6a1775",
   "metadata": {},
   "outputs": [],
   "source": [
    "df.dropna(inplace= True)"
   ]
  },
  {
   "cell_type": "markdown",
   "id": "0e9350fc",
   "metadata": {},
   "source": [
    "###  Cleaning individual columns"
   ]
  },
  {
   "cell_type": "markdown",
   "id": "f4b41589",
   "metadata": {},
   "source": [
    "### 1. Cleaning `restaurants` column"
   ]
  },
  {
   "cell_type": "markdown",
   "id": "c64377af",
   "metadata": {},
   "source": [
    "Column : 'restaurants'\n",
    "Column contains Restaurant Names"
   ]
  },
  {
   "cell_type": "code",
   "execution_count": 18,
   "id": "5e4ee5d3",
   "metadata": {},
   "outputs": [
    {
     "data": {
      "text/html": [
       "<div>\n",
       "<style scoped>\n",
       "    .dataframe tbody tr th:only-of-type {\n",
       "        vertical-align: middle;\n",
       "    }\n",
       "\n",
       "    .dataframe tbody tr th {\n",
       "        vertical-align: top;\n",
       "    }\n",
       "\n",
       "    .dataframe thead th {\n",
       "        text-align: right;\n",
       "    }\n",
       "</style>\n",
       "<table border=\"1\" class=\"dataframe\">\n",
       "  <thead>\n",
       "    <tr style=\"text-align: right;\">\n",
       "      <th></th>\n",
       "      <th>online_order</th>\n",
       "      <th>book_table</th>\n",
       "      <th>rating</th>\n",
       "      <th>votes</th>\n",
       "      <th>location</th>\n",
       "      <th>rest_type</th>\n",
       "      <th>food_type</th>\n",
       "      <th>cost</th>\n",
       "      <th>type</th>\n",
       "      <th>city</th>\n",
       "    </tr>\n",
       "    <tr>\n",
       "      <th>restaurants</th>\n",
       "      <th></th>\n",
       "      <th></th>\n",
       "      <th></th>\n",
       "      <th></th>\n",
       "      <th></th>\n",
       "      <th></th>\n",
       "      <th></th>\n",
       "      <th></th>\n",
       "      <th></th>\n",
       "      <th></th>\n",
       "    </tr>\n",
       "  </thead>\n",
       "  <tbody>\n",
       "    <tr>\n",
       "      <th>#FeelTheROLL</th>\n",
       "      <td>2</td>\n",
       "      <td>2</td>\n",
       "      <td>2</td>\n",
       "      <td>2</td>\n",
       "      <td>2</td>\n",
       "      <td>2</td>\n",
       "      <td>2</td>\n",
       "      <td>2</td>\n",
       "      <td>2</td>\n",
       "      <td>2</td>\n",
       "    </tr>\n",
       "    <tr>\n",
       "      <th>#L-81 Cafe</th>\n",
       "      <td>9</td>\n",
       "      <td>9</td>\n",
       "      <td>9</td>\n",
       "      <td>9</td>\n",
       "      <td>9</td>\n",
       "      <td>9</td>\n",
       "      <td>9</td>\n",
       "      <td>9</td>\n",
       "      <td>9</td>\n",
       "      <td>9</td>\n",
       "    </tr>\n",
       "    <tr>\n",
       "      <th>#refuel</th>\n",
       "      <td>3</td>\n",
       "      <td>3</td>\n",
       "      <td>3</td>\n",
       "      <td>3</td>\n",
       "      <td>3</td>\n",
       "      <td>3</td>\n",
       "      <td>3</td>\n",
       "      <td>3</td>\n",
       "      <td>3</td>\n",
       "      <td>3</td>\n",
       "    </tr>\n",
       "    <tr>\n",
       "      <th>1000 B.C</th>\n",
       "      <td>6</td>\n",
       "      <td>6</td>\n",
       "      <td>6</td>\n",
       "      <td>6</td>\n",
       "      <td>6</td>\n",
       "      <td>6</td>\n",
       "      <td>6</td>\n",
       "      <td>6</td>\n",
       "      <td>6</td>\n",
       "      <td>6</td>\n",
       "    </tr>\n",
       "    <tr>\n",
       "      <th>100ÃÂÃÂÃÂÃÂÃÂÃÂÃÂÃÂ°C</th>\n",
       "      <td>3</td>\n",
       "      <td>3</td>\n",
       "      <td>3</td>\n",
       "      <td>3</td>\n",
       "      <td>3</td>\n",
       "      <td>3</td>\n",
       "      <td>3</td>\n",
       "      <td>3</td>\n",
       "      <td>3</td>\n",
       "      <td>3</td>\n",
       "    </tr>\n",
       "  </tbody>\n",
       "</table>\n",
       "</div>"
      ],
      "text/plain": [
       "                                      online_order  book_table  rating  votes  \\\n",
       "restaurants                                                                     \n",
       "#FeelTheROLL                                     2           2       2      2   \n",
       "#L-81 Cafe                                       9           9       9      9   \n",
       "#refuel                                          3           3       3      3   \n",
       "1000 B.C                                         6           6       6      6   \n",
       "100ÃÂÃÂÃÂÃÂÃÂÃÂÃÂÃÂ°C             3           3       3      3   \n",
       "\n",
       "                                      location  rest_type  food_type  cost  \\\n",
       "restaurants                                                                  \n",
       "#FeelTheROLL                                 2          2          2     2   \n",
       "#L-81 Cafe                                   9          9          9     9   \n",
       "#refuel                                      3          3          3     3   \n",
       "1000 B.C                                     6          6          6     6   \n",
       "100ÃÂÃÂÃÂÃÂÃÂÃÂÃÂÃÂ°C         3          3          3     3   \n",
       "\n",
       "                                      type  city  \n",
       "restaurants                                       \n",
       "#FeelTheROLL                             2     2  \n",
       "#L-81 Cafe                               9     9  \n",
       "#refuel                                  3     3  \n",
       "1000 B.C                                 6     6  \n",
       "100ÃÂÃÂÃÂÃÂÃÂÃÂÃÂÃÂ°C     3     3  "
      ]
     },
     "execution_count": 18,
     "metadata": {},
     "output_type": "execute_result"
    }
   ],
   "source": [
    "df.groupby('restaurants').count().head() # we are grouping the restaurants to see the restaurant names and their count."
   ]
  },
  {
   "cell_type": "markdown",
   "id": "d7387af3",
   "metadata": {},
   "source": [
    "Here we can see we are got restaurant names having disturbed characters\n",
    "\n",
    "so we need to remove that characters from the name using pattern matcing to get orignal names."
   ]
  },
  {
   "cell_type": "code",
   "execution_count": 19,
   "id": "caa95fe1",
   "metadata": {},
   "outputs": [],
   "source": [
    "# '[Ãx][^A-Za-z]+' pattern I got to find disturbed characters using regex.And Replacing those charachters with empty space. \n",
    "df['restaurants']=df['restaurants'].str.replace('[Ãx][^A-Za-z]+','',regex=True)\n",
    "\n"
   ]
  },
  {
   "cell_type": "code",
   "execution_count": 20,
   "id": "e6fa7c1b",
   "metadata": {},
   "outputs": [
    {
     "data": {
      "text/html": [
       "<div>\n",
       "<style scoped>\n",
       "    .dataframe tbody tr th:only-of-type {\n",
       "        vertical-align: middle;\n",
       "    }\n",
       "\n",
       "    .dataframe tbody tr th {\n",
       "        vertical-align: top;\n",
       "    }\n",
       "\n",
       "    .dataframe thead th {\n",
       "        text-align: right;\n",
       "    }\n",
       "</style>\n",
       "<table border=\"1\" class=\"dataframe\">\n",
       "  <thead>\n",
       "    <tr style=\"text-align: right;\">\n",
       "      <th></th>\n",
       "      <th>online_order</th>\n",
       "      <th>book_table</th>\n",
       "      <th>rating</th>\n",
       "      <th>votes</th>\n",
       "      <th>location</th>\n",
       "      <th>rest_type</th>\n",
       "      <th>food_type</th>\n",
       "      <th>cost</th>\n",
       "      <th>type</th>\n",
       "      <th>city</th>\n",
       "    </tr>\n",
       "    <tr>\n",
       "      <th>restaurants</th>\n",
       "      <th></th>\n",
       "      <th></th>\n",
       "      <th></th>\n",
       "      <th></th>\n",
       "      <th></th>\n",
       "      <th></th>\n",
       "      <th></th>\n",
       "      <th></th>\n",
       "      <th></th>\n",
       "      <th></th>\n",
       "    </tr>\n",
       "  </thead>\n",
       "  <tbody>\n",
       "    <tr>\n",
       "      <th>#FeelTheROLL</th>\n",
       "      <td>2</td>\n",
       "      <td>2</td>\n",
       "      <td>2</td>\n",
       "      <td>2</td>\n",
       "      <td>2</td>\n",
       "      <td>2</td>\n",
       "      <td>2</td>\n",
       "      <td>2</td>\n",
       "      <td>2</td>\n",
       "      <td>2</td>\n",
       "    </tr>\n",
       "    <tr>\n",
       "      <th>#L-81 Cafe</th>\n",
       "      <td>9</td>\n",
       "      <td>9</td>\n",
       "      <td>9</td>\n",
       "      <td>9</td>\n",
       "      <td>9</td>\n",
       "      <td>9</td>\n",
       "      <td>9</td>\n",
       "      <td>9</td>\n",
       "      <td>9</td>\n",
       "      <td>9</td>\n",
       "    </tr>\n",
       "    <tr>\n",
       "      <th>#refuel</th>\n",
       "      <td>3</td>\n",
       "      <td>3</td>\n",
       "      <td>3</td>\n",
       "      <td>3</td>\n",
       "      <td>3</td>\n",
       "      <td>3</td>\n",
       "      <td>3</td>\n",
       "      <td>3</td>\n",
       "      <td>3</td>\n",
       "      <td>3</td>\n",
       "    </tr>\n",
       "    <tr>\n",
       "      <th>1000 B.C</th>\n",
       "      <td>6</td>\n",
       "      <td>6</td>\n",
       "      <td>6</td>\n",
       "      <td>6</td>\n",
       "      <td>6</td>\n",
       "      <td>6</td>\n",
       "      <td>6</td>\n",
       "      <td>6</td>\n",
       "      <td>6</td>\n",
       "      <td>6</td>\n",
       "    </tr>\n",
       "    <tr>\n",
       "      <th>100C</th>\n",
       "      <td>3</td>\n",
       "      <td>3</td>\n",
       "      <td>3</td>\n",
       "      <td>3</td>\n",
       "      <td>3</td>\n",
       "      <td>3</td>\n",
       "      <td>3</td>\n",
       "      <td>3</td>\n",
       "      <td>3</td>\n",
       "      <td>3</td>\n",
       "    </tr>\n",
       "  </tbody>\n",
       "</table>\n",
       "</div>"
      ],
      "text/plain": [
       "              online_order  book_table  rating  votes  location  rest_type  \\\n",
       "restaurants                                                                  \n",
       "#FeelTheROLL             2           2       2      2         2          2   \n",
       "#L-81 Cafe               9           9       9      9         9          9   \n",
       "#refuel                  3           3       3      3         3          3   \n",
       "1000 B.C                 6           6       6      6         6          6   \n",
       "100C                     3           3       3      3         3          3   \n",
       "\n",
       "              food_type  cost  type  city  \n",
       "restaurants                                \n",
       "#FeelTheROLL          2     2     2     2  \n",
       "#L-81 Cafe            9     9     9     9  \n",
       "#refuel               3     3     3     3  \n",
       "1000 B.C              6     6     6     6  \n",
       "100C                  3     3     3     3  "
      ]
     },
     "execution_count": 20,
     "metadata": {},
     "output_type": "execute_result"
    }
   ],
   "source": [
    "df.groupby('restaurants').count().head()"
   ]
  },
  {
   "cell_type": "markdown",
   "id": "9ff8e24e",
   "metadata": {},
   "source": [
    "Here see we successfully removed the disturbed characters from restaurant name(refer 5th row to see transformation)\n",
    "\n",
    "By reading the databse I found the names having incorrect spell. Let me correct them as well."
   ]
  },
  {
   "cell_type": "markdown",
   "id": "dcb6c47d",
   "metadata": {},
   "source": [
    "### 2. Cleaning `rating` column"
   ]
  },
  {
   "cell_type": "code",
   "execution_count": 21,
   "id": "72c96857",
   "metadata": {},
   "outputs": [
    {
     "data": {
      "text/plain": [
       "array(['4.1/5', '3.8/5', '3.7/5', '3.6/5', '4.6/5', '4.0/5', '4.2/5',\n",
       "       '3.9/5', '3.1/5', '3.0/5', '3.2/5', '3.3/5', '2.8/5', '4.4/5',\n",
       "       '4.3/5', 'NEW', '2.9/5', '3.5/5', '2.6/5', '3.8 /5', '3.4/5',\n",
       "       '4.5/5', '2.5/5', '2.7/5', '4.7/5', '2.4/5', '2.2/5', '2.3/5',\n",
       "       '3.4 /5', '-', '3.6 /5', '4.8/5', '3.9 /5', '4.2 /5', '4.0 /5',\n",
       "       '4.1 /5', '3.7 /5', '3.1 /5', '2.9 /5', '3.3 /5', '2.8 /5',\n",
       "       '3.5 /5', '2.7 /5', '2.5 /5', '3.2 /5', '2.6 /5', '4.5 /5',\n",
       "       '4.3 /5', '4.4 /5', '4.9/5', '2.1/5', '2.0/5', '1.8/5', '4.6 /5',\n",
       "       '4.9 /5', '3.0 /5', '4.8 /5', '2.3 /5', '4.7 /5', '2.4 /5',\n",
       "       '2.1 /5', '2.2 /5', '2.0 /5', '1.8 /5'], dtype=object)"
      ]
     },
     "execution_count": 21,
     "metadata": {},
     "output_type": "execute_result"
    }
   ],
   "source": [
    "df['rating'].unique()"
   ]
  },
  {
   "cell_type": "markdown",
   "id": "0440874f",
   "metadata": {},
   "source": [
    " The rating column in our dataset contains disturbing values, so we clear these disturbing values remove"
   ]
  },
  {
   "cell_type": "code",
   "execution_count": 22,
   "id": "138752ae",
   "metadata": {},
   "outputs": [
    {
     "data": {
      "text/plain": [
       "0    4.1\n",
       "1    4.1\n",
       "2    3.8\n",
       "3    3.7\n",
       "4    3.8\n",
       "Name: rating, dtype: float64"
      ]
     },
     "execution_count": 22,
     "metadata": {},
     "output_type": "execute_result"
    }
   ],
   "source": [
    "# rate columns values convert object to float and columns values covert like [4.1/5] to [4.1]\n",
    "def rating(value):\n",
    "    if value == \"NEW\" or value == \"-\" or value == \"nan\":\n",
    "        return np.nan\n",
    "    else:\n",
    "        value = str(value).split(\"/\")\n",
    "        value = value[0]\n",
    "        return float (value) \n",
    "df[\"rating\"] = df[\"rating\"].apply(rating)\n",
    "df[\"rating\"].head(5)"
   ]
  },
  {
   "cell_type": "markdown",
   "id": "54faa326",
   "metadata": {},
   "source": [
    "### 3. Cleaning `cost` column"
   ]
  },
  {
   "cell_type": "code",
   "execution_count": 23,
   "id": "aeae503f",
   "metadata": {},
   "outputs": [
    {
     "data": {
      "text/plain": [
       "array(['800', '300', '600', '700', '550', '500', '450', '650', '400',\n",
       "       '900', '200', '750', '150', '850', '100', '1,200', '350', '250',\n",
       "       '950', '1,000', '1,500', '1,300', '199', '80', '1,100', '160',\n",
       "       '1,600', '230', '130', '1,700', '1,400', '1,350', '2,200', '2,000',\n",
       "       '1,800', '1,900', '180', '330', '2,500', '2,100', '3,000', '2,800',\n",
       "       '3,400', '50', '40', '1,250', '3,500', '4,000', '2,400', '2,600',\n",
       "       '1,450', '70', '3,200', '560', '240', '360', '6,000', '1,050',\n",
       "       '2,300', '4,100', '120', '5,000', '3,700', '1,650', '2,700',\n",
       "       '4,500'], dtype=object)"
      ]
     },
     "execution_count": 23,
     "metadata": {},
     "output_type": "execute_result"
    }
   ],
   "source": [
    "df['cost'].unique()"
   ]
  },
  {
   "cell_type": "code",
   "execution_count": 24,
   "id": "59d11f81",
   "metadata": {},
   "outputs": [
    {
     "data": {
      "text/plain": [
       "0    800.0\n",
       "1    800.0\n",
       "2    800.0\n",
       "3    300.0\n",
       "4    600.0\n",
       "Name: cost, dtype: float64"
      ]
     },
     "execution_count": 24,
     "metadata": {},
     "output_type": "execute_result"
    }
   ],
   "source": [
    "# cleaning cost columns in dataset\n",
    "# 800,2   covert 800\n",
    "def cost(value):\n",
    "    value = str(value)\n",
    "    if \",\" in value:\n",
    "        value = value.replace(\",\",\"\")\n",
    "        return float(value)\n",
    "    else:\n",
    "        return float(value)\n",
    "df[\"cost\"] = df[\"cost\"].apply(cost)\n",
    "df[\"cost\"].head()"
   ]
  },
  {
   "cell_type": "markdown",
   "id": "6e17426e",
   "metadata": {},
   "source": [
    "### 4. Cleaning `online_order` column"
   ]
  },
  {
   "cell_type": "markdown",
   "id": "99bb240c",
   "metadata": {},
   "source": [
    "Column: 'online_order'\n",
    "Column shows that restaurants accepting online orders or not."
   ]
  },
  {
   "cell_type": "code",
   "execution_count": 25,
   "id": "e458b99d",
   "metadata": {},
   "outputs": [
    {
     "data": {
      "text/plain": [
       "array(['Yes', 'No'], dtype=object)"
      ]
     },
     "execution_count": 25,
     "metadata": {},
     "output_type": "execute_result"
    }
   ],
   "source": [
    "df['online_order'].unique() # Using .unique() we can find the unique values from column"
   ]
  },
  {
   "cell_type": "markdown",
   "id": "18042d81",
   "metadata": {},
   "source": [
    "Here, we can see only Yes and No values are present so there is no need to clean the column."
   ]
  },
  {
   "cell_type": "markdown",
   "id": "ed404e9e",
   "metadata": {},
   "source": [
    "### 5. Cleaning column `book_table`"
   ]
  },
  {
   "cell_type": "markdown",
   "id": "c384d076",
   "metadata": {},
   "source": [
    "Column: 'book_table'\n",
    "Column shows that restaurants having table booking facility or not."
   ]
  },
  {
   "cell_type": "code",
   "execution_count": 26,
   "id": "8af77908",
   "metadata": {},
   "outputs": [
    {
     "data": {
      "text/plain": [
       "array(['Yes', 'No'], dtype=object)"
      ]
     },
     "execution_count": 26,
     "metadata": {},
     "output_type": "execute_result"
    }
   ],
   "source": [
    "df['book_table'].unique()"
   ]
  },
  {
   "cell_type": "markdown",
   "id": "983bd71c",
   "metadata": {},
   "source": [
    "Here also we got the same result so no need to perform any cleaning"
   ]
  },
  {
   "cell_type": "markdown",
   "id": "7ac41a0b",
   "metadata": {},
   "source": [
    "### 6. Cleaning columns `rest_type` and `food_type`"
   ]
  },
  {
   "cell_type": "markdown",
   "id": "a28950ca",
   "metadata": {},
   "source": [
    "Column: 'rest_type' and 'food_type'\n",
    "Columns shows that the restaurant types and which type of food restaurants have."
   ]
  },
  {
   "cell_type": "code",
   "execution_count": 27,
   "id": "3c0dced5",
   "metadata": {},
   "outputs": [
    {
     "data": {
      "text/plain": [
       "(array(['Casual Dining', 'Cafe, Casual Dining', 'Quick Bites',\n",
       "        'Casual Dining, Cafe', 'Cafe', 'Quick Bites, Cafe',\n",
       "        'Cafe, Quick Bites', 'Delivery', 'Mess', 'Dessert Parlor',\n",
       "        'Bakery, Dessert Parlor', 'Pub', 'Bakery', 'Takeaway, Delivery',\n",
       "        'Fine Dining', 'Beverage Shop', 'Sweet Shop', 'Bar',\n",
       "        'Dessert Parlor, Sweet Shop', 'Bakery, Quick Bites',\n",
       "        'Sweet Shop, Quick Bites', 'Kiosk', 'Food Truck',\n",
       "        'Quick Bites, Dessert Parlor', 'Beverage Shop, Quick Bites',\n",
       "        'Beverage Shop, Dessert Parlor', 'Takeaway', 'Pub, Casual Dining',\n",
       "        'Casual Dining, Bar', 'Dessert Parlor, Beverage Shop',\n",
       "        'Quick Bites, Bakery', 'Microbrewery, Casual Dining', 'Lounge',\n",
       "        'Bar, Casual Dining', 'Food Court', 'Cafe, Bakery', 'Dhaba',\n",
       "        'Quick Bites, Sweet Shop', 'Microbrewery',\n",
       "        'Food Court, Quick Bites', 'Quick Bites, Beverage Shop',\n",
       "        'Pub, Bar', 'Casual Dining, Pub', 'Lounge, Bar',\n",
       "        'Dessert Parlor, Quick Bites', 'Food Court, Dessert Parlor',\n",
       "        'Casual Dining, Sweet Shop', 'Food Court, Casual Dining',\n",
       "        'Casual Dining, Microbrewery', 'Lounge, Casual Dining',\n",
       "        'Cafe, Food Court', 'Beverage Shop, Cafe', 'Cafe, Dessert Parlor',\n",
       "        'Dessert Parlor, Cafe', 'Dessert Parlor, Bakery',\n",
       "        'Microbrewery, Pub', 'Bakery, Food Court', 'Club',\n",
       "        'Quick Bites, Food Court', 'Bakery, Cafe', 'Pub, Cafe',\n",
       "        'Casual Dining, Irani Cafee', 'Fine Dining, Lounge',\n",
       "        'Bar, Quick Bites', 'Confectionery', 'Pub, Microbrewery',\n",
       "        'Microbrewery, Lounge', 'Fine Dining, Microbrewery',\n",
       "        'Fine Dining, Bar', 'Dessert Parlor, Kiosk', 'Bhojanalya',\n",
       "        'Casual Dining, Quick Bites', 'Cafe, Bar', 'Casual Dining, Lounge',\n",
       "        'Bakery, Beverage Shop', 'Microbrewery, Bar', 'Cafe, Lounge',\n",
       "        'Bar, Pub', 'Lounge, Cafe', 'Club, Casual Dining',\n",
       "        'Quick Bites, Mess', 'Quick Bites, Meat Shop',\n",
       "        'Quick Bites, Kiosk', 'Lounge, Microbrewery',\n",
       "        'Food Court, Beverage Shop', 'Dessert Parlor, Food Court',\n",
       "        'Bar, Lounge'], dtype=object),\n",
       " False    43533\n",
       " Name: rest_type, dtype: int64)"
      ]
     },
     "execution_count": 27,
     "metadata": {},
     "output_type": "execute_result"
    }
   ],
   "source": [
    "df.rest_type.unique(), df.rest_type.isnull().value_counts()"
   ]
  },
  {
   "cell_type": "code",
   "execution_count": 28,
   "id": "f87cc849",
   "metadata": {},
   "outputs": [
    {
     "data": {
      "text/plain": [
       "(array(['North Indian, Mughlai, Chinese', 'Chinese, North Indian, Thai',\n",
       "        'Cafe, Mexican, Italian', ..., 'Tibetan, Nepalese',\n",
       "        'North Indian, Street Food, Biryani',\n",
       "        'North Indian, Chinese, Arabian, Momos'], dtype=object),\n",
       " False    43533\n",
       " Name: food_type, dtype: int64)"
      ]
     },
     "execution_count": 28,
     "metadata": {},
     "output_type": "execute_result"
    }
   ],
   "source": [
    "df.food_type.unique(), df.food_type.isnull().value_counts()"
   ]
  },
  {
   "cell_type": "markdown",
   "id": "f1ac65e0",
   "metadata": {},
   "source": [
    "As we see column 'rest_type' and 'food_type' are aslo correct so no need to perform any cleaning operations."
   ]
  },
  {
   "cell_type": "markdown",
   "id": "785e776c",
   "metadata": {},
   "source": [
    "# Droping Duplicates"
   ]
  },
  {
   "cell_type": "markdown",
   "id": "4b6fe9c8",
   "metadata": {},
   "source": [
    "Dropping duplicates means we are removing repeated values or duplicate values from the dataset."
   ]
  },
  {
   "cell_type": "code",
   "execution_count": 29,
   "id": "b24d958e",
   "metadata": {},
   "outputs": [
    {
     "data": {
      "text/plain": [
       "(43447, 11)"
      ]
     },
     "execution_count": 29,
     "metadata": {},
     "output_type": "execute_result"
    }
   ],
   "source": [
    "df.drop_duplicates(inplace= True)\n",
    "df.shape"
   ]
  },
  {
   "cell_type": "code",
   "execution_count": 30,
   "id": "aa6d4a6d",
   "metadata": {},
   "outputs": [
    {
     "data": {
      "text/plain": [
       "False    43447\n",
       "dtype: int64"
      ]
     },
     "execution_count": 30,
     "metadata": {},
     "output_type": "execute_result"
    }
   ],
   "source": [
    "# by duplicated() we get duplicated values in dataset\n",
    "df.duplicated().value_counts()"
   ]
  },
  {
   "cell_type": "markdown",
   "id": "6523607c",
   "metadata": {},
   "source": [
    "# Data Visualization"
   ]
  },
  {
   "cell_type": "markdown",
   "id": "4af324d7",
   "metadata": {},
   "source": [
    "In data visualization we going to visualize our data how it is, and trying to find some informative data from our dataset.\n",
    "Here we are going to use two python libraries For visualization.\n",
    "\n",
    "* Seaborn\n",
    "* Matplotlib\n",
    "* Plotly\n",
    "\n",
    "So, first we are going to import them."
   ]
  },
  {
   "cell_type": "code",
   "execution_count": 31,
   "id": "a886ee63",
   "metadata": {},
   "outputs": [],
   "source": [
    "import matplotlib.pyplot as plt\n",
    "import seaborn as sns"
   ]
  },
  {
   "cell_type": "code",
   "execution_count": 32,
   "id": "7e1d2925",
   "metadata": {},
   "outputs": [
    {
     "name": "stdout",
     "output_type": "stream",
     "text": [
      "Note: you may need to restart the kernel to use updated packages.\n"
     ]
    }
   ],
   "source": [
    "pip install plotly --upgrade --quiet"
   ]
  },
  {
   "cell_type": "markdown",
   "id": "c14ca4f0",
   "metadata": {},
   "source": [
    "## 1) How many restaurants accepting online order for Zomato?"
   ]
  },
  {
   "cell_type": "code",
   "execution_count": 33,
   "id": "c5383792",
   "metadata": {},
   "outputs": [
    {
     "data": {
      "text/plain": [
       "Yes    28136\n",
       "No     15311\n",
       "Name: online_order, dtype: int64"
      ]
     },
     "execution_count": 33,
     "metadata": {},
     "output_type": "execute_result"
    }
   ],
   "source": [
    "df['online_order'].value_counts().head()"
   ]
  },
  {
   "cell_type": "code",
   "execution_count": 34,
   "id": "03df2ecb",
   "metadata": {},
   "outputs": [
    {
     "data": {
      "image/png": "[encoded data removed]",
      "text/plain": [
       "<Figure size 1080x432 with 1 Axes>"
      ]
     },
     "metadata": {
      "needs_background": "light"
     },
     "output_type": "display_data"
    }
   ],
   "source": [
    "plt.figure(figsize=(15,6))\n",
    "sns.countplot(x='online_order',data= df)\n",
    "plt.title(\"Restaurants accepting online orders\")\n",
    "plt.show();"
   ]
  },
  {
   "cell_type": "markdown",
   "id": "b2a15868",
   "metadata": {},
   "source": [
    "This countplot shows that more than 25k+ restaurants takes  online orders."
   ]
  },
  {
   "cell_type": "markdown",
   "id": "c9c0e4c1",
   "metadata": {},
   "source": [
    "# 2) Which  type is  most profitable among all in restaurants ?"
   ]
  },
  {
   "cell_type": "code",
   "execution_count": 35,
   "id": "336062db",
   "metadata": {},
   "outputs": [
    {
     "data": {
      "image/png": "[encoded data removed]",
      "text/plain": [
       "<Figure size 648x648 with 1 Axes>"
      ]
     },
     "metadata": {},
     "output_type": "display_data"
    }
   ],
   "source": [
    "profit_rest= df.groupby('type',sort= False).agg({'cost':'mean'})\n",
    "profit_rest.cost.plot(kind='pie',autopct='%1.1f%%',figsize=(9,9),shadow=True)\n",
    "plt.title(\"Best Restaurant Type\")\n",
    "plt.show();"
   ]
  },
  {
   "cell_type": "markdown",
   "id": "5ade7204",
   "metadata": {},
   "source": [
    "Drinks & nightlife earning  highest profit among all the restaurants."
   ]
  },
  {
   "cell_type": "markdown",
   "id": "b795dd3f",
   "metadata": {},
   "source": [
    "# 3)  Which restaurant has highest voting ? "
   ]
  },
  {
   "cell_type": "code",
   "execution_count": 36,
   "id": "395dc954",
   "metadata": {},
   "outputs": [
    {
     "name": "stdout",
     "output_type": "stream",
     "text": [
      "restaurants\n",
      "Byg Brewski Brewing Company    16832\n",
      "Toit                           14956\n",
      "Truffles                       14726\n",
      "AB's - Absolute Barbecues      12121\n",
      "The Black Pearl                10550\n",
      "Big Pitcher                     9300\n",
      "Onesta                          9085\n",
      "Arbor Brewing Company           8419\n",
      "Empire Restaurant               8304\n",
      "Prost Brew Pub                  7871\n",
      "Name: votes, dtype: int64\n"
     ]
    }
   ],
   "source": [
    "voting_rest=df.groupby(['restaurants'])['votes'].max().sort_values(ascending= False).head(10)\n",
    "print(voting_rest)"
   ]
  },
  {
   "cell_type": "code",
   "execution_count": 37,
   "id": "8089226f",
   "metadata": {},
   "outputs": [
    {
     "data": {
      "image/png": "[encoded data removed]",
      "text/plain": [
       "<Figure size 1080x288 with 1 Axes>"
      ]
     },
     "metadata": {
      "needs_background": "light"
     },
     "output_type": "display_data"
    }
   ],
   "source": [
    "plt.figure(figsize=(15,4))\n",
    "voting_rest.plot.barh(x='lab', y='val')\n",
    "plt.xlabel(\"Voting\")\n",
    "plt.ylabel(\"Restaurants\")\n",
    "plt.title(\"Top Restaurants by Voting\")\n",
    "plt.show();"
   ]
  },
  {
   "cell_type": "markdown",
   "id": "599eb4e6",
   "metadata": {},
   "source": [
    "Byg Brewski Brewing Company seems like most famous restaurant because of its highest votes."
   ]
  },
  {
   "cell_type": "markdown",
   "id": "797c4faa",
   "metadata": {},
   "source": [
    "# 4) Which restaurants has more rating on the basis of booking table ?"
   ]
  },
  {
   "cell_type": "code",
   "execution_count": 38,
   "id": "a9fee46c",
   "metadata": {},
   "outputs": [
    {
     "data": {
      "image/png": "[encoded data removed]",
      "text/plain": [
       "<Figure size 450x450 with 1 Axes>"
      ]
     },
     "metadata": {
      "needs_background": "light"
     },
     "output_type": "display_data"
    }
   ],
   "source": [
    "#Booking vs rating\n",
    "plt.figure(figsize=(5,5),dpi=90)\n",
    "plt.title('Booking vs rating')\n",
    "sns.boxplot(x='book_table',y='rating',data=df,palette='rocket');"
   ]
  },
  {
   "cell_type": "markdown",
   "id": "95a8714e",
   "metadata": {},
   "source": [
    "- The restaurants which accepts booking have the highest rating while the restaurants having the lowest rating.\n",
    "- If particular restaurants want high ratings they should start taking bookings."
   ]
  },
  {
   "cell_type": "markdown",
   "id": "071812bb",
   "metadata": {},
   "source": [
    "# 5)  How many restaurants has high charges ?"
   ]
  },
  {
   "cell_type": "code",
   "execution_count": 39,
   "id": "03ebab22",
   "metadata": {},
   "outputs": [
    {
     "data": {
      "image/png": "[encoded data removed]",
      "text/plain": [
       "<Figure size 720x360 with 1 Axes>"
      ]
     },
     "metadata": {
      "needs_background": "light"
     },
     "output_type": "display_data"
    }
   ],
   "source": [
    "plt.figure(figsize=(10,5))\n",
    "sns.kdeplot('cost', data=df)# KDE plot \n",
    "plt.ylabel('No of restaurants')\n",
    "plt.title('Charges of Restaurants')\n",
    "plt.show()"
   ]
  },
  {
   "cell_type": "markdown",
   "id": "ba42b33c",
   "metadata": {},
   "source": [
    "By observing above kde plot we can say that most of the restaurants have cost between 1 to 1000Rs. for food and remaining have above 1000Rs for their food."
   ]
  },
  {
   "cell_type": "markdown",
   "id": "8ea0110c",
   "metadata": {},
   "source": [
    "# 6) How many types of restaurants ?"
   ]
  },
  {
   "cell_type": "code",
   "execution_count": 40,
   "id": "5460f0e6",
   "metadata": {},
   "outputs": [
    {
     "data": {
      "text/html": [
       "<div>\n",
       "<style scoped>\n",
       "    .dataframe tbody tr th:only-of-type {\n",
       "        vertical-align: middle;\n",
       "    }\n",
       "\n",
       "    .dataframe tbody tr th {\n",
       "        vertical-align: top;\n",
       "    }\n",
       "\n",
       "    .dataframe thead th {\n",
       "        text-align: right;\n",
       "    }\n",
       "</style>\n",
       "<table border=\"1\" class=\"dataframe\">\n",
       "  <thead>\n",
       "    <tr style=\"text-align: right;\">\n",
       "      <th></th>\n",
       "      <th>rest_type</th>\n",
       "    </tr>\n",
       "  </thead>\n",
       "  <tbody>\n",
       "    <tr>\n",
       "      <th>Quick Bites</th>\n",
       "      <td>14981</td>\n",
       "    </tr>\n",
       "    <tr>\n",
       "      <th>Casual Dining</th>\n",
       "      <td>9859</td>\n",
       "    </tr>\n",
       "    <tr>\n",
       "      <th>Cafe</th>\n",
       "      <td>3487</td>\n",
       "    </tr>\n",
       "    <tr>\n",
       "      <th>Dessert Parlor</th>\n",
       "      <td>1923</td>\n",
       "    </tr>\n",
       "    <tr>\n",
       "      <th>Delivery</th>\n",
       "      <td>1775</td>\n",
       "    </tr>\n",
       "    <tr>\n",
       "      <th>Takeaway, Delivery</th>\n",
       "      <td>1452</td>\n",
       "    </tr>\n",
       "    <tr>\n",
       "      <th>Casual Dining, Bar</th>\n",
       "      <td>1117</td>\n",
       "    </tr>\n",
       "    <tr>\n",
       "      <th>Bakery</th>\n",
       "      <td>775</td>\n",
       "    </tr>\n",
       "    <tr>\n",
       "      <th>Beverage Shop</th>\n",
       "      <td>700</td>\n",
       "    </tr>\n",
       "    <tr>\n",
       "      <th>Bar</th>\n",
       "      <td>650</td>\n",
       "    </tr>\n",
       "    <tr>\n",
       "      <th>Food Court</th>\n",
       "      <td>523</td>\n",
       "    </tr>\n",
       "    <tr>\n",
       "      <th>Bar, Casual Dining</th>\n",
       "      <td>406</td>\n",
       "    </tr>\n",
       "    <tr>\n",
       "      <th>Lounge</th>\n",
       "      <td>395</td>\n",
       "    </tr>\n",
       "    <tr>\n",
       "      <th>Pub</th>\n",
       "      <td>354</td>\n",
       "    </tr>\n",
       "    <tr>\n",
       "      <th>Sweet Shop</th>\n",
       "      <td>351</td>\n",
       "    </tr>\n",
       "    <tr>\n",
       "      <th>Fine Dining</th>\n",
       "      <td>342</td>\n",
       "    </tr>\n",
       "    <tr>\n",
       "      <th>Casual Dining, Cafe</th>\n",
       "      <td>311</td>\n",
       "    </tr>\n",
       "    <tr>\n",
       "      <th>Pub, Casual Dining</th>\n",
       "      <td>255</td>\n",
       "    </tr>\n",
       "    <tr>\n",
       "      <th>Beverage Shop, Quick Bites</th>\n",
       "      <td>243</td>\n",
       "    </tr>\n",
       "    <tr>\n",
       "      <th>Bakery, Quick Bites</th>\n",
       "      <td>231</td>\n",
       "    </tr>\n",
       "  </tbody>\n",
       "</table>\n",
       "</div>"
      ],
      "text/plain": [
       "                            rest_type\n",
       "Quick Bites                     14981\n",
       "Casual Dining                    9859\n",
       "Cafe                             3487\n",
       "Dessert Parlor                   1923\n",
       "Delivery                         1775\n",
       "Takeaway, Delivery               1452\n",
       "Casual Dining, Bar               1117\n",
       "Bakery                            775\n",
       "Beverage Shop                     700\n",
       "Bar                               650\n",
       "Food Court                        523\n",
       "Bar, Casual Dining                406\n",
       "Lounge                            395\n",
       "Pub                               354\n",
       "Sweet Shop                        351\n",
       "Fine Dining                       342\n",
       "Casual Dining, Cafe               311\n",
       "Pub, Casual Dining                255\n",
       "Beverage Shop, Quick Bites        243\n",
       "Bakery, Quick Bites               231"
      ]
     },
     "metadata": {},
     "output_type": "display_data"
    }
   ],
   "source": [
    "#Restaurant type\n",
    "type1=df['rest_type'].value_counts().head(20)\n",
    "display(type1.to_frame())"
   ]
  },
  {
   "cell_type": "code",
   "execution_count": 41,
   "id": "162ff642",
   "metadata": {},
   "outputs": [
    {
     "data": {
      "image/png": "[encoded data removed]",
      "text/plain": [
       "<Figure size 855x475 with 1 Axes>"
      ]
     },
     "metadata": {
      "needs_background": "light"
     },
     "output_type": "display_data"
    }
   ],
   "source": [
    "plt.figure(figsize=(9,5),dpi=95)\n",
    "sns.barplot(x=type1,y= type1.index ,palette='bright')\n",
    "plt.title('Restaurant types');"
   ]
  },
  {
   "cell_type": "markdown",
   "id": "992a017b",
   "metadata": {},
   "source": [
    "There are almost 20 types of restaurants but `Quick Bites` are more in number. "
   ]
  },
  {
   "cell_type": "markdown",
   "id": "570e1cc0",
   "metadata": {},
   "source": [
    "# 7)  Which  location is the best  on the basis of `rating` and `votes`?"
   ]
  },
  {
   "cell_type": "markdown",
   "id": "19b19a73",
   "metadata": {},
   "source": [
    "We have two columns 'rating' and 'votes' so by getting the average of those columns with respect to 'location' we can find the best location."
   ]
  },
  {
   "cell_type": "code",
   "execution_count": 42,
   "id": "49ae22c0",
   "metadata": {},
   "outputs": [
    {
     "data": {
      "image/png": "[encoded data removed]",
      "text/plain": [
       "<Figure size 1152x720 with 2 Axes>"
      ]
     },
     "metadata": {
      "needs_background": "light"
     },
     "output_type": "display_data"
    }
   ],
   "source": [
    "plt.figure(figsize=(16,10)) # setting graph size using matplotlib\n",
    "ax = plt.subplot(2,1,1)   # use of Subploting\n",
    "loc_rating=df.groupby('location').agg({'rating':'median'})\n",
    "rating_sorted_loc=loc_rating.sort_values('rating',ascending=False).head(5).reset_index() # sorting location on avg of votes in descending order and reading first 5 values\n",
    "sns.barplot(x='location',y='rating',data=rating_sorted_loc) # ploting graph using seaborn\n",
    "\n",
    "ax = plt.subplot(2,1,2)\n",
    "loc_votes=df.groupby('location').agg({'votes':'median'})\n",
    "votes_sorted_loc=loc_votes.sort_values('votes',ascending=False).head(5).reset_index() # sorting location on avg of rating in descending order and reading first 5 values\n",
    "sns.barplot(x='location',y='votes',\n",
    "            data=votes_sorted_loc)\n",
    "plt.show()"
   ]
  },
  {
   "cell_type": "markdown",
   "id": "6fb1352f",
   "metadata": {},
   "source": [
    "By observing the above graphs,'levelle Road' has an high rating and votes as well as compare to other.\n",
    "\n",
    "So, we can say that 'levelle Road' is a best location by comparing 'votes' and 'rating' of locations."
   ]
  },
  {
   "cell_type": "markdown",
   "id": "3e9bff3d",
   "metadata": {},
   "source": [
    "# 8) Which restaurants has highest rating according to online order ?"
   ]
  },
  {
   "cell_type": "code",
   "execution_count": 43,
   "id": "5bb4bc86",
   "metadata": {},
   "outputs": [
    {
     "data": {
      "image/png": "[encoded data removed]",
      "text/plain": [
       "<Figure size 480x480 with 1 Axes>"
      ]
     },
     "metadata": {
      "needs_background": "light"
     },
     "output_type": "display_data"
    }
   ],
   "source": [
    "#Online order vs rating\n",
    "plt.figure(figsize=(6,6),dpi=80)\n",
    "plt.title('Online order vs rating')\n",
    "sns.boxplot(x='online_order',y='rating',data=df,palette='Set1');"
   ]
  },
  {
   "cell_type": "markdown",
   "id": "01549e52",
   "metadata": {},
   "source": [
    "The restaurants which have the online order have the maximum rating but the restaurants which dont have has the lowest rating.\n",
    "Average rating of online order is higher."
   ]
  },
  {
   "cell_type": "markdown",
   "id": "d943bada",
   "metadata": {},
   "source": [
    "# 9) What are the best Locations for Restaurants ?"
   ]
  },
  {
   "cell_type": "code",
   "execution_count": 44,
   "id": "cdfd7496",
   "metadata": {},
   "outputs": [
    {
     "data": {
      "text/html": [
       "<div>\n",
       "<style scoped>\n",
       "    .dataframe tbody tr th:only-of-type {\n",
       "        vertical-align: middle;\n",
       "    }\n",
       "\n",
       "    .dataframe tbody tr th {\n",
       "        vertical-align: top;\n",
       "    }\n",
       "\n",
       "    .dataframe thead th {\n",
       "        text-align: right;\n",
       "    }\n",
       "</style>\n",
       "<table border=\"1\" class=\"dataframe\">\n",
       "  <thead>\n",
       "    <tr style=\"text-align: right;\">\n",
       "      <th></th>\n",
       "      <th>votes</th>\n",
       "    </tr>\n",
       "    <tr>\n",
       "      <th>location</th>\n",
       "      <th></th>\n",
       "    </tr>\n",
       "  </thead>\n",
       "  <tbody>\n",
       "    <tr>\n",
       "      <th>Koramangala 5th Block</th>\n",
       "      <td>2214083</td>\n",
       "    </tr>\n",
       "    <tr>\n",
       "      <th>Indiranagar</th>\n",
       "      <td>1165909</td>\n",
       "    </tr>\n",
       "    <tr>\n",
       "      <th>Koramangala 4th Block</th>\n",
       "      <td>685156</td>\n",
       "    </tr>\n",
       "    <tr>\n",
       "      <th>Church Street</th>\n",
       "      <td>590306</td>\n",
       "    </tr>\n",
       "    <tr>\n",
       "      <th>JP Nagar</th>\n",
       "      <td>578010</td>\n",
       "    </tr>\n",
       "  </tbody>\n",
       "</table>\n",
       "</div>"
      ],
      "text/plain": [
       "                         votes\n",
       "location                      \n",
       "Koramangala 5th Block  2214083\n",
       "Indiranagar            1165909\n",
       "Koramangala 4th Block   685156\n",
       "Church Street           590306\n",
       "JP Nagar                578010"
      ]
     },
     "metadata": {},
     "output_type": "display_data"
    },
    {
     "name": "stdout",
     "output_type": "stream",
     "text": [
      "AxesSubplot(0.125,0.125;0.775x0.755)\n"
     ]
    },
    {
     "data": {
      "image/png": "[encoded data removed]",
      "text/plain": [
       "<Figure size 720x720 with 1 Axes>"
      ]
     },
     "metadata": {
      "needs_background": "light"
     },
     "output_type": "display_data"
    }
   ],
   "source": [
    "#Best location(votes)\n",
    "loc_vote=df.loc[:,['location','votes']]\n",
    "loc_vote=df.groupby('location')['votes'].sum()\n",
    "loc_vote=loc_vote.to_frame()\n",
    "loc_vote=loc_vote.sort_values(\"votes\",ascending=False)\n",
    "display(loc_vote.head())\n",
    "plt.figure(figsize=(10,10))\n",
    "pt=sns.barplot(y=loc_vote.index[:15],x=loc_vote['votes'][:15],palette='pastel',orient='h')\n",
    "plt.title('Best Location(votes)')\n",
    "print(pt)"
   ]
  },
  {
   "cell_type": "markdown",
   "id": "062b0eb9",
   "metadata": {},
   "source": [
    "Here we have plotted bar plot for the locations of restaurants in consideration with votes.\n",
    "Graphs shows that the which location has more number of restaurants and which has the lowest.\n",
    "\n",
    "Top 3 restaurants are:\n",
    "- koramangla 5th block\n",
    "- indiranagar\n",
    "- koramangla 4th block"
   ]
  },
  {
   "cell_type": "markdown",
   "id": "be85705a",
   "metadata": {},
   "source": [
    "# 10) What types liked by the BTM people ?"
   ]
  },
  {
   "cell_type": "code",
   "execution_count": 50,
   "id": "aaff3cb7",
   "metadata": {},
   "outputs": [
    {
     "data": {
      "image/png": "[encoded data removed]",
      "text/plain": [
       "<Figure size 1080x360 with 1 Axes>"
      ]
     },
     "metadata": {
      "needs_background": "light"
     },
     "output_type": "display_data"
    }
   ],
   "source": [
    "btm=df.groupby(['location','type'])['votes'].agg(['max']).loc['BTM'].plot(kind='bar',figsize=(15,5))\n",
    "plt.ylabel('votes')\n",
    "plt.title(\"Types liked by BTM's Person\" );"
   ]
  },
  {
   "cell_type": "markdown",
   "id": "9662e560",
   "metadata": {},
   "source": [
    "Above graph shows the maximum votes for different types in 'BTM' area. We can say that people in BTM likes 'Dine-out' and 'Buffet'."
   ]
  },
  {
   "cell_type": "markdown",
   "id": "05ab2780",
   "metadata": {},
   "source": [
    "# Summary"
   ]
  },
  {
   "cell_type": "markdown",
   "id": "c74f31d9",
   "metadata": {},
   "source": [
    "In the Given dataset I explored and learned many things,\n",
    "\n",
    "I learned about how to clean the data.\n",
    "- What kind of syntax I can right and some new as well.\n",
    "- How I can read my data by visualizing it.\n",
    "In the process of cleaning the dataset I used Pandas and Numpy libraries. Using pandas and numpy I removed unwanted(useless) data and created new data frames and got useful data for my research. After cleaning my data I used Seaborn, Plotly, Folium and Matplotlib libraries to read my data by visualizing it. I created questions regarding my research I tried to solve it by visualizing and applying conditions."
   ]
  },
  {
   "cell_type": "markdown",
   "id": "79d38a8b",
   "metadata": {},
   "source": [
    "# Future Work"
   ]
  },
  {
   "cell_type": "markdown",
   "id": "f22740c5",
   "metadata": {},
   "source": [
    "- We can add recent zomato dataset in this dataset.\n",
    "- We can go deeply into each column and bring out many more interesting insights with regard to other factors.\n",
    "- More pretty seaborn graphs.\n",
    "."
   ]
  },
  {
   "cell_type": "markdown",
   "id": "ffccf396",
   "metadata": {},
   "source": [
    "# References "
   ]
  },
  {
   "cell_type": "markdown",
   "id": "4d6777a2",
   "metadata": {},
   "source": [
    "Dataset has been extracted from kaggle:\n",
    "\n",
    "https://www.kaggle.com/datasets/pranavuikey/zomato-eda\n",
    "\n",
    "Pandas user guide: https://pandas.pydata.org/docs/user_guide/index.html\n",
    "\n",
    "Matplotlib user guide: https://matplotlib.org/3.3.1/users/index.html\n",
    "\n",
    "Seaborn user guide & tutorial: https://seaborn.pydata.org/tutorial.html\n",
    "\n",
    "opendatasets Python library: https://github.com/JovianML/opendatasets\n",
    "\n",
    "Visualization: https://plotly.com/python/plotly-express/"
   ]
  },
  {
   "cell_type": "code",
   "execution_count": null,
   "id": "afb9c7bc",
   "metadata": {},
   "outputs": [],
   "source": []
  }
 ],
 "metadata": {
  "kernelspec": {
   "display_name": "Python 3 (ipykernel)",
   "language": "python",
   "name": "python3"
  },
  "language_info": {
   "codemirror_mode": {
    "name": "ipython",
    "version": 3
   },
   "file_extension": ".py",
   "mimetype": "text/x-python",
   "name": "python",
   "nbconvert_exporter": "python",
   "pygments_lexer": "ipython3",
   "version": "3.9.6"
  }
 },
 "nbformat": 4,
 "nbformat_minor": 5
}
